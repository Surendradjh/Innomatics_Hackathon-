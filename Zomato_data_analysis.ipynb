{
 "cells": [
  {
   "cell_type": "code",
   "execution_count": 232,
   "id": "5f6346ff",
   "metadata": {
    "colab": {
     "base_uri": "https://localhost:8080/"
    },
    "executionInfo": {
     "elapsed": 3239,
     "status": "ok",
     "timestamp": 1745049444120,
     "user": {
      "displayName": "Surendra",
      "userId": "17580320614144699442"
     },
     "user_tz": -330
    },
    "id": "5f6346ff",
    "outputId": "6778ee7c-7643-4155-f540-d639c7b34006"
   },
   "outputs": [
    {
     "name": "stdout",
     "output_type": "stream",
     "text": [
      "Requirement already satisfied: geopy in c:\\users\\vempa\\anaconda3\\lib\\site-packages (2.4.1)\n",
      "Requirement already satisfied: geographiclib<3,>=1.52 in c:\\users\\vempa\\anaconda3\\lib\\site-packages (from geopy) (2.0)\n",
      "Note: you may need to restart the kernel to use updated packages.\n"
     ]
    }
   ],
   "source": [
    "%pip install geopy"
   ]
  },
  {
   "cell_type": "code",
   "execution_count": 233,
   "id": "0892031f",
   "metadata": {
    "executionInfo": {
     "elapsed": 29,
     "status": "ok",
     "timestamp": 1745049444152,
     "user": {
      "displayName": "Surendra",
      "userId": "17580320614144699442"
     },
     "user_tz": -330
    },
    "id": "0892031f"
   },
   "outputs": [
    {
     "name": "stderr",
     "output_type": "stream",
     "text": [
      "C:\\Users\\vempa\\AppData\\Local\\Temp\\ipykernel_9356\\30944406.py:7: DeprecationWarning: Importing display from IPython.core.display is deprecated since IPython 7.14, please import from IPython display\n",
      "  from IPython.core.display import display, HTML\n"
     ]
    }
   ],
   "source": [
    "import pandas as pd\n",
    "import numpy as np\n",
    "import matplotlib.pyplot as plt\n",
    "import seaborn as sns\n",
    "from geopy.geocoders import Nominatim\n",
    "from geopy.exc import GeocoderTimedOut\n",
    "from IPython.core.display import display, HTML\n",
    "import time"
   ]
  },
  {
   "cell_type": "code",
   "execution_count": 234,
   "id": "b4e77572",
   "metadata": {
    "colab": {
     "base_uri": "https://localhost:8080/",
     "height": 206
    },
    "executionInfo": {
     "elapsed": 654,
     "status": "ok",
     "timestamp": 1745049446590,
     "user": {
      "displayName": "Surendra",
      "userId": "17580320614144699442"
     },
     "user_tz": -330
    },
    "id": "b4e77572",
    "outputId": "b2e12ab5-ba2a-4953-f8df-21127abcb903"
   },
   "outputs": [
    {
     "data": {
      "text/html": [
       "<div>\n",
       "<style scoped>\n",
       "    .dataframe tbody tr th:only-of-type {\n",
       "        vertical-align: middle;\n",
       "    }\n",
       "\n",
       "    .dataframe tbody tr th {\n",
       "        vertical-align: top;\n",
       "    }\n",
       "\n",
       "    .dataframe thead th {\n",
       "        text-align: right;\n",
       "    }\n",
       "</style>\n",
       "<table border=\"1\" class=\"dataframe\">\n",
       "  <thead>\n",
       "    <tr style=\"text-align: right;\">\n",
       "      <th></th>\n",
       "      <th>online_order</th>\n",
       "      <th>book_table</th>\n",
       "      <th>rate</th>\n",
       "      <th>votes</th>\n",
       "      <th>rest_type</th>\n",
       "      <th>dish_liked</th>\n",
       "      <th>cuisines</th>\n",
       "      <th>approx_costfor_two_people</th>\n",
       "      <th>listed_intype</th>\n",
       "      <th>listed_incity</th>\n",
       "    </tr>\n",
       "  </thead>\n",
       "  <tbody>\n",
       "    <tr>\n",
       "      <th>0</th>\n",
       "      <td>Yes</td>\n",
       "      <td>Yes</td>\n",
       "      <td>4.1/5</td>\n",
       "      <td>775</td>\n",
       "      <td>Casual Dining</td>\n",
       "      <td>Pasta, Lunch Buffet, Masala Papad, Paneer Laja...</td>\n",
       "      <td>North Indian, Mughlai, Chinese</td>\n",
       "      <td>800</td>\n",
       "      <td>Buffet</td>\n",
       "      <td>Banashankari</td>\n",
       "    </tr>\n",
       "    <tr>\n",
       "      <th>1</th>\n",
       "      <td>Yes</td>\n",
       "      <td>No</td>\n",
       "      <td>4.1/5</td>\n",
       "      <td>787</td>\n",
       "      <td>Casual Dining</td>\n",
       "      <td>Momos, Lunch Buffet, Chocolate Nirvana, Thai G...</td>\n",
       "      <td>Chinese, North Indian, Thai</td>\n",
       "      <td>800</td>\n",
       "      <td>Buffet</td>\n",
       "      <td>Banashankari</td>\n",
       "    </tr>\n",
       "    <tr>\n",
       "      <th>2</th>\n",
       "      <td>Yes</td>\n",
       "      <td>No</td>\n",
       "      <td>3.8/5</td>\n",
       "      <td>918</td>\n",
       "      <td>Cafe, Casual Dining</td>\n",
       "      <td>Churros, Cannelloni, Minestrone Soup, Hot Choc...</td>\n",
       "      <td>Cafe, Mexican, Italian</td>\n",
       "      <td>800</td>\n",
       "      <td>Buffet</td>\n",
       "      <td>Banashankari</td>\n",
       "    </tr>\n",
       "    <tr>\n",
       "      <th>3</th>\n",
       "      <td>No</td>\n",
       "      <td>No</td>\n",
       "      <td>3.7/5</td>\n",
       "      <td>88</td>\n",
       "      <td>Quick Bites</td>\n",
       "      <td>Masala Dosa</td>\n",
       "      <td>South Indian, North Indian</td>\n",
       "      <td>300</td>\n",
       "      <td>Buffet</td>\n",
       "      <td>Banashankari</td>\n",
       "    </tr>\n",
       "    <tr>\n",
       "      <th>4</th>\n",
       "      <td>No</td>\n",
       "      <td>No</td>\n",
       "      <td>3.8/5</td>\n",
       "      <td>166</td>\n",
       "      <td>Casual Dining</td>\n",
       "      <td>Panipuri, Gol Gappe</td>\n",
       "      <td>North Indian, Rajasthani</td>\n",
       "      <td>600</td>\n",
       "      <td>Buffet</td>\n",
       "      <td>Banashankari</td>\n",
       "    </tr>\n",
       "  </tbody>\n",
       "</table>\n",
       "</div>"
      ],
      "text/plain": [
       "  online_order book_table   rate  votes            rest_type  \\\n",
       "0          Yes        Yes  4.1/5    775        Casual Dining   \n",
       "1          Yes         No  4.1/5    787        Casual Dining   \n",
       "2          Yes         No  3.8/5    918  Cafe, Casual Dining   \n",
       "3           No         No  3.7/5     88          Quick Bites   \n",
       "4           No         No  3.8/5    166        Casual Dining   \n",
       "\n",
       "                                          dish_liked  \\\n",
       "0  Pasta, Lunch Buffet, Masala Papad, Paneer Laja...   \n",
       "1  Momos, Lunch Buffet, Chocolate Nirvana, Thai G...   \n",
       "2  Churros, Cannelloni, Minestrone Soup, Hot Choc...   \n",
       "3                                        Masala Dosa   \n",
       "4                                Panipuri, Gol Gappe   \n",
       "\n",
       "                         cuisines approx_costfor_two_people listed_intype  \\\n",
       "0  North Indian, Mughlai, Chinese                       800        Buffet   \n",
       "1     Chinese, North Indian, Thai                       800        Buffet   \n",
       "2          Cafe, Mexican, Italian                       800        Buffet   \n",
       "3      South Indian, North Indian                       300        Buffet   \n",
       "4        North Indian, Rajasthani                       600        Buffet   \n",
       "\n",
       "  listed_incity  \n",
       "0  Banashankari  \n",
       "1  Banashankari  \n",
       "2  Banashankari  \n",
       "3  Banashankari  \n",
       "4  Banashankari  "
      ]
     },
     "execution_count": 234,
     "metadata": {},
     "output_type": "execute_result"
    }
   ],
   "source": [
    "zomato_data = pd.read_csv(r'zomato_data.csv')\n",
    "zomato_data.head()"
   ]
  },
  {
   "cell_type": "code",
   "execution_count": 235,
   "id": "42b01d87",
   "metadata": {
    "colab": {
     "base_uri": "https://localhost:8080/",
     "height": 206
    },
    "executionInfo": {
     "elapsed": 278,
     "status": "ok",
     "timestamp": 1745049446877,
     "user": {
      "displayName": "Surendra",
      "userId": "17580320614144699442"
     },
     "user_tz": -330
    },
    "id": "42b01d87",
    "outputId": "0420df70-9ad0-41c0-f23c-ee006ec62ee4"
   },
   "outputs": [
    {
     "data": {
      "text/html": [
       "<div>\n",
       "<style scoped>\n",
       "    .dataframe tbody tr th:only-of-type {\n",
       "        vertical-align: middle;\n",
       "    }\n",
       "\n",
       "    .dataframe tbody tr th {\n",
       "        vertical-align: top;\n",
       "    }\n",
       "\n",
       "    .dataframe thead th {\n",
       "        text-align: right;\n",
       "    }\n",
       "</style>\n",
       "<table border=\"1\" class=\"dataframe\">\n",
       "  <thead>\n",
       "    <tr style=\"text-align: right;\">\n",
       "      <th></th>\n",
       "      <th>listed_incity</th>\n",
       "      <th>Latitude</th>\n",
       "      <th>Longitude</th>\n",
       "    </tr>\n",
       "  </thead>\n",
       "  <tbody>\n",
       "    <tr>\n",
       "      <th>0</th>\n",
       "      <td>Banashankari</td>\n",
       "      <td>12.939333</td>\n",
       "      <td>77.553982</td>\n",
       "    </tr>\n",
       "    <tr>\n",
       "      <th>1</th>\n",
       "      <td>Bannerghatta Road</td>\n",
       "      <td>12.952660</td>\n",
       "      <td>77.605048</td>\n",
       "    </tr>\n",
       "    <tr>\n",
       "      <th>2</th>\n",
       "      <td>Basavanagudi</td>\n",
       "      <td>12.941726</td>\n",
       "      <td>77.575502</td>\n",
       "    </tr>\n",
       "    <tr>\n",
       "      <th>3</th>\n",
       "      <td>Bellandur</td>\n",
       "      <td>12.925352</td>\n",
       "      <td>77.675941</td>\n",
       "    </tr>\n",
       "    <tr>\n",
       "      <th>4</th>\n",
       "      <td>Brigade Road</td>\n",
       "      <td>12.967358</td>\n",
       "      <td>77.606435</td>\n",
       "    </tr>\n",
       "  </tbody>\n",
       "</table>\n",
       "</div>"
      ],
      "text/plain": [
       "       listed_incity   Latitude  Longitude\n",
       "0       Banashankari  12.939333  77.553982\n",
       "1  Bannerghatta Road  12.952660  77.605048\n",
       "2       Basavanagudi  12.941726  77.575502\n",
       "3          Bellandur  12.925352  77.675941\n",
       "4       Brigade Road  12.967358  77.606435"
      ]
     },
     "execution_count": 235,
     "metadata": {},
     "output_type": "execute_result"
    }
   ],
   "source": [
    "geo_data=pd.read_csv(r\"Geographical Coordinates.csv\")\n",
    "geo_data.head()"
   ]
  },
  {
   "cell_type": "code",
   "execution_count": 236,
   "id": "013ceedf",
   "metadata": {
    "colab": {
     "base_uri": "https://localhost:8080/",
     "height": 397
    },
    "executionInfo": {
     "elapsed": 31,
     "status": "ok",
     "timestamp": 1745049446911,
     "user": {
      "displayName": "Surendra",
      "userId": "17580320614144699442"
     },
     "user_tz": -330
    },
    "id": "013ceedf",
    "outputId": "2c5f60a5-e8f3-4c6f-edbd-9d1b2cf32a08"
   },
   "outputs": [
    {
     "data": {
      "text/plain": [
       "online_order                 69\n",
       "book_table                   69\n",
       "rate                         69\n",
       "votes                        69\n",
       "rest_type                    69\n",
       "dish_liked                    0\n",
       "cuisines                     69\n",
       "approx_costfor_two_people    65\n",
       "listed_intype                69\n",
       "listed_incity                69\n",
       "dtype: int64"
      ]
     },
     "execution_count": 236,
     "metadata": {},
     "output_type": "execute_result"
    }
   ],
   "source": [
    "zomato_data.loc[zomato_data['rate']=='-'].count()"
   ]
  },
  {
   "cell_type": "code",
   "execution_count": 237,
   "id": "8551727b",
   "metadata": {
    "executionInfo": {
     "elapsed": 28,
     "status": "ok",
     "timestamp": 1745049446941,
     "user": {
      "displayName": "Surendra",
      "userId": "17580320614144699442"
     },
     "user_tz": -330
    },
    "id": "8551727b"
   },
   "outputs": [],
   "source": [
    "zomato_data.loc[zomato_data['rate']=='-','rate']=np.nan\n",
    "zomato_data.loc[zomato_data['rate']=='NEW','rate']=np.nan"
   ]
  },
  {
   "cell_type": "code",
   "execution_count": 238,
   "id": "7e59cb2a",
   "metadata": {
    "colab": {
     "base_uri": "https://localhost:8080/"
    },
    "executionInfo": {
     "elapsed": 15,
     "status": "ok",
     "timestamp": 1745049446959,
     "user": {
      "displayName": "Surendra",
      "userId": "17580320614144699442"
     },
     "user_tz": -330
    },
    "id": "7e59cb2a",
    "outputId": "0754d7db-8b41-4711-c3bd-20db5c217109"
   },
   "outputs": [
    {
     "data": {
      "text/plain": [
       "0"
      ]
     },
     "execution_count": 238,
     "metadata": {},
     "output_type": "execute_result"
    }
   ],
   "source": [
    "zomato_data.loc[zomato_data['rate']=='nan','rate'].count()"
   ]
  },
  {
   "cell_type": "code",
   "execution_count": 239,
   "id": "049174f0",
   "metadata": {
    "colab": {
     "base_uri": "https://localhost:8080/"
    },
    "executionInfo": {
     "elapsed": 34,
     "status": "ok",
     "timestamp": 1745049446995,
     "user": {
      "displayName": "Surendra",
      "userId": "17580320614144699442"
     },
     "user_tz": -330
    },
    "id": "049174f0",
    "outputId": "7a730d74-d0ee-4ded-e403-b73fb6b70b17"
   },
   "outputs": [
    {
     "data": {
      "text/plain": [
       "array(['4.1/5', '3.8/5', '3.7/5', '3.6/5', '4.6/5', '4.0/5', '4.2/5',\n",
       "       '3.9/5', '3.1/5', '3.0/5', '3.2/5', '3.3/5', '2.8/5', '4.4/5',\n",
       "       '4.3/5', nan, '2.9/5', '3.5/5', '2.6/5', '3.8 /5', '3.4/5',\n",
       "       '4.5/5', '2.5/5', '2.7/5', '4.7/5', '2.4/5', '2.2/5', '2.3/5',\n",
       "       '3.4 /5', '3.6 /5', '4.8/5', '3.9 /5', '4.2 /5', '4.0 /5',\n",
       "       '4.1 /5', '3.7 /5', '3.1 /5', '2.9 /5', '3.3 /5', '2.8 /5',\n",
       "       '3.5 /5', '2.7 /5', '2.5 /5', '3.2 /5', '2.6 /5', '4.5 /5',\n",
       "       '4.3 /5', '4.4 /5', '4.9/5', '2.1/5', '2.0/5', '1.8/5', '4.6 /5',\n",
       "       '4.9 /5', '3.0 /5', '4.8 /5', '2.3 /5', '4.7 /5', '2.4 /5',\n",
       "       '2.1 /5', '2.2 /5', '2.0 /5', '1.8 /5'], dtype=object)"
      ]
     },
     "execution_count": 239,
     "metadata": {},
     "output_type": "execute_result"
    }
   ],
   "source": [
    "zomato_data['rate'].unique()"
   ]
  },
  {
   "cell_type": "code",
   "execution_count": 240,
   "id": "76c2e96b",
   "metadata": {
    "executionInfo": {
     "elapsed": 31,
     "status": "ok",
     "timestamp": 1745049447028,
     "user": {
      "displayName": "Surendra",
      "userId": "17580320614144699442"
     },
     "user_tz": -330
    },
    "id": "76c2e96b"
   },
   "outputs": [],
   "source": [
    "zomato_data['rate']=pd.to_numeric(zomato_data['rate'].str.replace(\"/5\",\"\").str.strip())"
   ]
  },
  {
   "cell_type": "code",
   "execution_count": 241,
   "id": "2f958498",
   "metadata": {
    "colab": {
     "base_uri": "https://localhost:8080/"
    },
    "executionInfo": {
     "elapsed": 37,
     "status": "ok",
     "timestamp": 1745049447051,
     "user": {
      "displayName": "Surendra",
      "userId": "17580320614144699442"
     },
     "user_tz": -330
    },
    "id": "2f958498",
    "outputId": "2c046102-5bfa-44f1-f49d-1121611984a2"
   },
   "outputs": [
    {
     "name": "stderr",
     "output_type": "stream",
     "text": [
      "C:\\Users\\vempa\\AppData\\Local\\Temp\\ipykernel_9356\\2503414322.py:1: FutureWarning: A value is trying to be set on a copy of a DataFrame or Series through chained assignment using an inplace method.\n",
      "The behavior will change in pandas 3.0. This inplace method will never work because the intermediate object on which we are setting values always behaves as a copy.\n",
      "\n",
      "For example, when doing 'df[col].method(value, inplace=True)', try using 'df.method({col: value}, inplace=True)' or df[col] = df[col].method(value) instead, to perform the operation inplace on the original object.\n",
      "\n",
      "\n",
      "  zomato_data['rate'].fillna(zomato_data['rate'].median(),inplace=True)\n"
     ]
    }
   ],
   "source": [
    "zomato_data['rate'].fillna(zomato_data['rate'].median(),inplace=True)"
   ]
  },
  {
   "cell_type": "code",
   "execution_count": 242,
   "id": "bfdc17bb",
   "metadata": {
    "colab": {
     "base_uri": "https://localhost:8080/"
    },
    "executionInfo": {
     "elapsed": 8,
     "status": "ok",
     "timestamp": 1745049447060,
     "user": {
      "displayName": "Surendra",
      "userId": "17580320614144699442"
     },
     "user_tz": -330
    },
    "id": "bfdc17bb",
    "outputId": "1c83966a-df33-4cff-e6ac-2edd56b8ba65"
   },
   "outputs": [
    {
     "data": {
      "text/plain": [
       "array([4.1, 3.8, 3.7, 3.6, 4.6, 4. , 4.2, 3.9, 3.1, 3. , 3.2, 3.3, 2.8,\n",
       "       4.4, 4.3, 2.9, 3.5, 2.6, 3.4, 4.5, 2.5, 2.7, 4.7, 2.4, 2.2, 2.3,\n",
       "       4.8, 4.9, 2.1, 2. , 1.8])"
      ]
     },
     "execution_count": 242,
     "metadata": {},
     "output_type": "execute_result"
    }
   ],
   "source": [
    "zomato_data['rate'].unique()"
   ]
  },
  {
   "cell_type": "code",
   "execution_count": 243,
   "id": "5287663d",
   "metadata": {
    "colab": {
     "base_uri": "https://localhost:8080/"
    },
    "executionInfo": {
     "elapsed": 18,
     "status": "ok",
     "timestamp": 1745049447079,
     "user": {
      "displayName": "Surendra",
      "userId": "17580320614144699442"
     },
     "user_tz": -330
    },
    "id": "5287663d",
    "outputId": "d778f603-38a2-4482-d50e-4b1ccb087566"
   },
   "outputs": [
    {
     "data": {
      "text/plain": [
       "array(['800', '300', '600', '700', '550', '500', '450', '650', '400',\n",
       "       '900', '200', '750', '150', '850', '100', '1,200', '350', '250',\n",
       "       '950', '1,000', '1,500', '1,300', '199', '80', '1,100', '160',\n",
       "       '1,600', '230', '130', '50', '190', '1,700', nan, '1,400', '180',\n",
       "       '1,350', '2,200', '2,000', '1,800', '1,900', '330', '2,500',\n",
       "       '2,100', '3,000', '2,800', '3,400', '40', '1,250', '3,500',\n",
       "       '4,000', '2,400', '2,600', '120', '1,450', '469', '70', '3,200',\n",
       "       '60', '560', '240', '360', '6,000', '1,050', '2,300', '4,100',\n",
       "       '5,000', '3,700', '1,650', '2,700', '4,500', '140'], dtype=object)"
      ]
     },
     "execution_count": 243,
     "metadata": {},
     "output_type": "execute_result"
    }
   ],
   "source": [
    "zomato_data['approx_costfor_two_people'].unique()"
   ]
  },
  {
   "cell_type": "code",
   "execution_count": 244,
   "id": "df99241e",
   "metadata": {
    "executionInfo": {
     "elapsed": 86,
     "status": "ok",
     "timestamp": 1745049447166,
     "user": {
      "displayName": "Surendra",
      "userId": "17580320614144699442"
     },
     "user_tz": -330
    },
    "id": "df99241e"
   },
   "outputs": [],
   "source": [
    "zomato_data['approx_costfor_two_people']=pd.to_numeric(zomato_data['approx_costfor_two_people'].str.replace(\",\",\"\",regex=True))"
   ]
  },
  {
   "cell_type": "code",
   "execution_count": 245,
   "id": "2023e106",
   "metadata": {
    "colab": {
     "base_uri": "https://localhost:8080/"
    },
    "executionInfo": {
     "elapsed": 9,
     "status": "ok",
     "timestamp": 1745049447169,
     "user": {
      "displayName": "Surendra",
      "userId": "17580320614144699442"
     },
     "user_tz": -330
    },
    "id": "2023e106",
    "outputId": "cf719e5b-590b-4f91-ae63-48b830fd3fb4"
   },
   "outputs": [
    {
     "name": "stderr",
     "output_type": "stream",
     "text": [
      "C:\\Users\\vempa\\AppData\\Local\\Temp\\ipykernel_9356\\4251422764.py:1: FutureWarning: A value is trying to be set on a copy of a DataFrame or Series through chained assignment using an inplace method.\n",
      "The behavior will change in pandas 3.0. This inplace method will never work because the intermediate object on which we are setting values always behaves as a copy.\n",
      "\n",
      "For example, when doing 'df[col].method(value, inplace=True)', try using 'df.method({col: value}, inplace=True)' or df[col] = df[col].method(value) instead, to perform the operation inplace on the original object.\n",
      "\n",
      "\n",
      "  zomato_data['approx_costfor_two_people'].fillna(zomato_data['approx_costfor_two_people'].median(),inplace=True)\n"
     ]
    }
   ],
   "source": [
    "zomato_data['approx_costfor_two_people'].fillna(zomato_data['approx_costfor_two_people'].median(),inplace=True)"
   ]
  },
  {
   "cell_type": "code",
   "execution_count": 246,
   "id": "d16b60a8",
   "metadata": {
    "colab": {
     "base_uri": "https://localhost:8080/"
    },
    "executionInfo": {
     "elapsed": 20,
     "status": "ok",
     "timestamp": 1745049447188,
     "user": {
      "displayName": "Surendra",
      "userId": "17580320614144699442"
     },
     "user_tz": -330
    },
    "id": "d16b60a8",
    "outputId": "b6217eca-09c3-4a8c-c183-84dc822f8a3a"
   },
   "outputs": [
    {
     "data": {
      "text/plain": [
       "array([ 800.,  300.,  600.,  700.,  550.,  500.,  450.,  650.,  400.,\n",
       "        900.,  200.,  750.,  150.,  850.,  100., 1200.,  350.,  250.,\n",
       "        950., 1000., 1500., 1300.,  199.,   80., 1100.,  160., 1600.,\n",
       "        230.,  130.,   50.,  190., 1700., 1400.,  180., 1350., 2200.,\n",
       "       2000., 1800., 1900.,  330., 2500., 2100., 3000., 2800., 3400.,\n",
       "         40., 1250., 3500., 4000., 2400., 2600.,  120., 1450.,  469.,\n",
       "         70., 3200.,   60.,  560.,  240.,  360., 6000., 1050., 2300.,\n",
       "       4100., 5000., 3700., 1650., 2700., 4500.,  140.])"
      ]
     },
     "execution_count": 246,
     "metadata": {},
     "output_type": "execute_result"
    }
   ],
   "source": [
    "zomato_data['approx_costfor_two_people'].unique()"
   ]
  },
  {
   "cell_type": "code",
   "execution_count": 247,
   "id": "e0a714c8",
   "metadata": {
    "colab": {
     "base_uri": "https://localhost:8080/"
    },
    "executionInfo": {
     "elapsed": 48,
     "status": "ok",
     "timestamp": 1745049447233,
     "user": {
      "displayName": "Surendra",
      "userId": "17580320614144699442"
     },
     "user_tz": -330
    },
    "id": "e0a714c8",
    "outputId": "0bb99dc7-175b-4887-ccbf-6dda60c0d775"
   },
   "outputs": [
    {
     "name": "stdout",
     "output_type": "stream",
     "text": [
      "<class 'pandas.core.frame.DataFrame'>\n",
      "RangeIndex: 51717 entries, 0 to 51716\n",
      "Data columns (total 10 columns):\n",
      " #   Column                     Non-Null Count  Dtype  \n",
      "---  ------                     --------------  -----  \n",
      " 0   online_order               51717 non-null  object \n",
      " 1   book_table                 51717 non-null  object \n",
      " 2   rate                       51717 non-null  float64\n",
      " 3   votes                      51717 non-null  int64  \n",
      " 4   rest_type                  51490 non-null  object \n",
      " 5   dish_liked                 23639 non-null  object \n",
      " 6   cuisines                   51672 non-null  object \n",
      " 7   approx_costfor_two_people  51717 non-null  float64\n",
      " 8   listed_intype              51717 non-null  object \n",
      " 9   listed_incity              51717 non-null  object \n",
      "dtypes: float64(2), int64(1), object(7)\n",
      "memory usage: 3.9+ MB\n"
     ]
    }
   ],
   "source": [
    "zomato_data.info()"
   ]
  },
  {
   "cell_type": "code",
   "execution_count": 248,
   "id": "5d2241f3",
   "metadata": {
    "colab": {
     "base_uri": "https://localhost:8080/"
    },
    "executionInfo": {
     "elapsed": 10,
     "status": "ok",
     "timestamp": 1745049447244,
     "user": {
      "displayName": "Surendra",
      "userId": "17580320614144699442"
     },
     "user_tz": -330
    },
    "id": "5d2241f3",
    "outputId": "0f29b5b9-a784-4ffc-a3b5-cc18984f25b6"
   },
   "outputs": [
    {
     "data": {
      "text/plain": [
       "28078"
      ]
     },
     "execution_count": 248,
     "metadata": {},
     "output_type": "execute_result"
    }
   ],
   "source": [
    "zomato_data['dish_liked'].isna().sum()"
   ]
  },
  {
   "cell_type": "code",
   "execution_count": 249,
   "id": "5b2b7cff",
   "metadata": {
    "colab": {
     "base_uri": "https://localhost:8080/"
    },
    "executionInfo": {
     "elapsed": 10,
     "status": "ok",
     "timestamp": 1745049447276,
     "user": {
      "displayName": "Surendra",
      "userId": "17580320614144699442"
     },
     "user_tz": -330
    },
    "id": "5b2b7cff",
    "outputId": "e89ce8f1-28af-4094-fde9-4a51a39b72c3"
   },
   "outputs": [
    {
     "name": "stderr",
     "output_type": "stream",
     "text": [
      "C:\\Users\\vempa\\AppData\\Local\\Temp\\ipykernel_9356\\3985057258.py:1: FutureWarning: A value is trying to be set on a copy of a DataFrame or Series through chained assignment using an inplace method.\n",
      "The behavior will change in pandas 3.0. This inplace method will never work because the intermediate object on which we are setting values always behaves as a copy.\n",
      "\n",
      "For example, when doing 'df[col].method(value, inplace=True)', try using 'df.method({col: value}, inplace=True)' or df[col] = df[col].method(value) instead, to perform the operation inplace on the original object.\n",
      "\n",
      "\n",
      "  zomato_data['dish_liked'].fillna(\"Not Available\",inplace=True)\n"
     ]
    }
   ],
   "source": [
    "zomato_data['dish_liked'].fillna(\"Not Available\",inplace=True)"
   ]
  },
  {
   "cell_type": "code",
   "execution_count": 250,
   "id": "d7b9b6b7",
   "metadata": {
    "colab": {
     "base_uri": "https://localhost:8080/"
    },
    "executionInfo": {
     "elapsed": 12,
     "status": "ok",
     "timestamp": 1745049447290,
     "user": {
      "displayName": "Surendra",
      "userId": "17580320614144699442"
     },
     "user_tz": -330
    },
    "id": "d7b9b6b7",
    "outputId": "239e3146-2777-47b2-ad36-c2c818948476"
   },
   "outputs": [
    {
     "data": {
      "text/plain": [
       "0"
      ]
     },
     "execution_count": 250,
     "metadata": {},
     "output_type": "execute_result"
    }
   ],
   "source": [
    "zomato_data['dish_liked'].isna().sum()"
   ]
  },
  {
   "cell_type": "code",
   "execution_count": 251,
   "id": "27e4edcc",
   "metadata": {
    "colab": {
     "base_uri": "https://localhost:8080/"
    },
    "executionInfo": {
     "elapsed": 20,
     "status": "ok",
     "timestamp": 1745049447312,
     "user": {
      "displayName": "Surendra",
      "userId": "17580320614144699442"
     },
     "user_tz": -330
    },
    "id": "27e4edcc",
    "outputId": "8f9d5094-0136-43d6-edce-e3112133e0c1"
   },
   "outputs": [
    {
     "data": {
      "text/plain": [
       "45"
      ]
     },
     "execution_count": 251,
     "metadata": {},
     "output_type": "execute_result"
    }
   ],
   "source": [
    "zomato_data['cuisines'].isna().sum()"
   ]
  },
  {
   "cell_type": "code",
   "execution_count": 252,
   "id": "d6ecbb69",
   "metadata": {
    "colab": {
     "base_uri": "https://localhost:8080/"
    },
    "executionInfo": {
     "elapsed": 12,
     "status": "ok",
     "timestamp": 1745049447323,
     "user": {
      "displayName": "Surendra",
      "userId": "17580320614144699442"
     },
     "user_tz": -330
    },
    "id": "d6ecbb69",
    "outputId": "22a3f4ea-389d-4c25-a55b-26cec5e19ab3"
   },
   "outputs": [
    {
     "name": "stderr",
     "output_type": "stream",
     "text": [
      "C:\\Users\\vempa\\AppData\\Local\\Temp\\ipykernel_9356\\663534733.py:1: FutureWarning: A value is trying to be set on a copy of a DataFrame or Series through chained assignment using an inplace method.\n",
      "The behavior will change in pandas 3.0. This inplace method will never work because the intermediate object on which we are setting values always behaves as a copy.\n",
      "\n",
      "For example, when doing 'df[col].method(value, inplace=True)', try using 'df.method({col: value}, inplace=True)' or df[col] = df[col].method(value) instead, to perform the operation inplace on the original object.\n",
      "\n",
      "\n",
      "  zomato_data['cuisines'].fillna(\"Other\",inplace=True)\n"
     ]
    }
   ],
   "source": [
    "zomato_data['cuisines'].fillna(\"Other\",inplace=True)"
   ]
  },
  {
   "cell_type": "code",
   "execution_count": 253,
   "id": "a8a855b8",
   "metadata": {
    "colab": {
     "base_uri": "https://localhost:8080/"
    },
    "executionInfo": {
     "elapsed": 7,
     "status": "ok",
     "timestamp": 1745049447334,
     "user": {
      "displayName": "Surendra",
      "userId": "17580320614144699442"
     },
     "user_tz": -330
    },
    "id": "a8a855b8",
    "outputId": "3203ac3f-ecba-4650-ca07-dea67a566edb"
   },
   "outputs": [
    {
     "data": {
      "text/plain": [
       "0"
      ]
     },
     "execution_count": 253,
     "metadata": {},
     "output_type": "execute_result"
    }
   ],
   "source": [
    "zomato_data['cuisines'].isna().sum()"
   ]
  },
  {
   "cell_type": "code",
   "execution_count": 254,
   "id": "0d0fe4f7",
   "metadata": {
    "colab": {
     "base_uri": "https://localhost:8080/"
    },
    "executionInfo": {
     "elapsed": 6,
     "status": "ok",
     "timestamp": 1745049447366,
     "user": {
      "displayName": "Surendra",
      "userId": "17580320614144699442"
     },
     "user_tz": -330
    },
    "id": "0d0fe4f7",
    "outputId": "a9397e45-b44c-46bd-ce12-419bee6cc791"
   },
   "outputs": [
    {
     "data": {
      "text/plain": [
       "227"
      ]
     },
     "execution_count": 254,
     "metadata": {},
     "output_type": "execute_result"
    }
   ],
   "source": [
    "zomato_data['rest_type'].isna().sum()"
   ]
  },
  {
   "cell_type": "code",
   "execution_count": 255,
   "id": "e67bb3f0",
   "metadata": {
    "colab": {
     "base_uri": "https://localhost:8080/"
    },
    "executionInfo": {
     "elapsed": 5,
     "status": "ok",
     "timestamp": 1745049447372,
     "user": {
      "displayName": "Surendra",
      "userId": "17580320614144699442"
     },
     "user_tz": -330
    },
    "id": "e67bb3f0",
    "outputId": "3b2314ed-f492-4423-90aa-f81d8784d68d"
   },
   "outputs": [
    {
     "name": "stderr",
     "output_type": "stream",
     "text": [
      "C:\\Users\\vempa\\AppData\\Local\\Temp\\ipykernel_9356\\1100642031.py:1: FutureWarning: A value is trying to be set on a copy of a DataFrame or Series through chained assignment using an inplace method.\n",
      "The behavior will change in pandas 3.0. This inplace method will never work because the intermediate object on which we are setting values always behaves as a copy.\n",
      "\n",
      "For example, when doing 'df[col].method(value, inplace=True)', try using 'df.method({col: value}, inplace=True)' or df[col] = df[col].method(value) instead, to perform the operation inplace on the original object.\n",
      "\n",
      "\n",
      "  zomato_data['rest_type'].fillna(\"Unknown\",inplace=True)\n"
     ]
    }
   ],
   "source": [
    "zomato_data['rest_type'].fillna(\"Unknown\",inplace=True)"
   ]
  },
  {
   "cell_type": "code",
   "execution_count": 256,
   "id": "73713fe9",
   "metadata": {
    "colab": {
     "base_uri": "https://localhost:8080/"
    },
    "executionInfo": {
     "elapsed": 5,
     "status": "ok",
     "timestamp": 1745049447378,
     "user": {
      "displayName": "Surendra",
      "userId": "17580320614144699442"
     },
     "user_tz": -330
    },
    "id": "73713fe9",
    "outputId": "ecabb5ea-7261-4e9e-c9bd-45f64d7cf21d"
   },
   "outputs": [
    {
     "data": {
      "text/plain": [
       "0"
      ]
     },
     "execution_count": 256,
     "metadata": {},
     "output_type": "execute_result"
    }
   ],
   "source": [
    "zomato_data['rest_type'].isna().sum()"
   ]
  },
  {
   "cell_type": "code",
   "execution_count": 257,
   "id": "c0a8580d",
   "metadata": {
    "colab": {
     "base_uri": "https://localhost:8080/",
     "height": 147
    },
    "executionInfo": {
     "elapsed": 39,
     "status": "ok",
     "timestamp": 1745049447434,
     "user": {
      "displayName": "Surendra",
      "userId": "17580320614144699442"
     },
     "user_tz": -330
    },
    "id": "c0a8580d",
    "outputId": "9744eda0-7f89-4f72-ea74-b76e28294025"
   },
   "outputs": [
    {
     "data": {
      "text/plain": [
       "votes\n",
       "False    51717\n",
       "Name: count, dtype: int64"
      ]
     },
     "execution_count": 257,
     "metadata": {},
     "output_type": "execute_result"
    }
   ],
   "source": [
    "zomato_data['votes'].isna().value_counts()"
   ]
  },
  {
   "cell_type": "code",
   "execution_count": 258,
   "id": "c2157766",
   "metadata": {
    "colab": {
     "base_uri": "https://localhost:8080/",
     "height": 206
    },
    "executionInfo": {
     "elapsed": 27,
     "status": "ok",
     "timestamp": 1745049447463,
     "user": {
      "displayName": "Surendra",
      "userId": "17580320614144699442"
     },
     "user_tz": -330
    },
    "id": "c2157766",
    "outputId": "76dedee9-dcd4-4c25-c1d4-c1960de5fbff"
   },
   "outputs": [
    {
     "data": {
      "text/html": [
       "<div>\n",
       "<style scoped>\n",
       "    .dataframe tbody tr th:only-of-type {\n",
       "        vertical-align: middle;\n",
       "    }\n",
       "\n",
       "    .dataframe tbody tr th {\n",
       "        vertical-align: top;\n",
       "    }\n",
       "\n",
       "    .dataframe thead th {\n",
       "        text-align: right;\n",
       "    }\n",
       "</style>\n",
       "<table border=\"1\" class=\"dataframe\">\n",
       "  <thead>\n",
       "    <tr style=\"text-align: right;\">\n",
       "      <th></th>\n",
       "      <th>online_order</th>\n",
       "      <th>book_table</th>\n",
       "    </tr>\n",
       "  </thead>\n",
       "  <tbody>\n",
       "    <tr>\n",
       "      <th>0</th>\n",
       "      <td>Yes</td>\n",
       "      <td>Yes</td>\n",
       "    </tr>\n",
       "    <tr>\n",
       "      <th>1</th>\n",
       "      <td>Yes</td>\n",
       "      <td>No</td>\n",
       "    </tr>\n",
       "    <tr>\n",
       "      <th>2</th>\n",
       "      <td>Yes</td>\n",
       "      <td>No</td>\n",
       "    </tr>\n",
       "    <tr>\n",
       "      <th>3</th>\n",
       "      <td>No</td>\n",
       "      <td>No</td>\n",
       "    </tr>\n",
       "    <tr>\n",
       "      <th>4</th>\n",
       "      <td>No</td>\n",
       "      <td>No</td>\n",
       "    </tr>\n",
       "  </tbody>\n",
       "</table>\n",
       "</div>"
      ],
      "text/plain": [
       "  online_order book_table\n",
       "0          Yes        Yes\n",
       "1          Yes         No\n",
       "2          Yes         No\n",
       "3           No         No\n",
       "4           No         No"
      ]
     },
     "execution_count": 258,
     "metadata": {},
     "output_type": "execute_result"
    }
   ],
   "source": [
    "zomato_data[['online_order','book_table']].head()"
   ]
  },
  {
   "cell_type": "code",
   "execution_count": 259,
   "id": "9b806029",
   "metadata": {
    "colab": {
     "base_uri": "https://localhost:8080/"
    },
    "executionInfo": {
     "elapsed": 86,
     "status": "ok",
     "timestamp": 1745049447547,
     "user": {
      "displayName": "Surendra",
      "userId": "17580320614144699442"
     },
     "user_tz": -330
    },
    "id": "9b806029",
    "outputId": "200d267e-adb7-4846-dede-625c9b5a985c"
   },
   "outputs": [
    {
     "name": "stderr",
     "output_type": "stream",
     "text": [
      "C:\\Users\\vempa\\AppData\\Local\\Temp\\ipykernel_9356\\1063588473.py:1: FutureWarning: DataFrame.applymap has been deprecated. Use DataFrame.map instead.\n",
      "  zomato_data[['online_order','book_table']]=zomato_data[['online_order','book_table']].applymap({'Yes':1,\"No\":0}.get)\n"
     ]
    }
   ],
   "source": [
    "zomato_data[['online_order','book_table']]=zomato_data[['online_order','book_table']].applymap({'Yes':1,\"No\":0}.get)"
   ]
  },
  {
   "cell_type": "code",
   "execution_count": 260,
   "id": "97ce33c8",
   "metadata": {
    "colab": {
     "base_uri": "https://localhost:8080/",
     "height": 206
    },
    "executionInfo": {
     "elapsed": 19,
     "status": "ok",
     "timestamp": 1745049447581,
     "user": {
      "displayName": "Surendra",
      "userId": "17580320614144699442"
     },
     "user_tz": -330
    },
    "id": "97ce33c8",
    "outputId": "c5d81ac1-2433-4738-d064-50b63d1d52b3"
   },
   "outputs": [
    {
     "data": {
      "text/html": [
       "<div>\n",
       "<style scoped>\n",
       "    .dataframe tbody tr th:only-of-type {\n",
       "        vertical-align: middle;\n",
       "    }\n",
       "\n",
       "    .dataframe tbody tr th {\n",
       "        vertical-align: top;\n",
       "    }\n",
       "\n",
       "    .dataframe thead th {\n",
       "        text-align: right;\n",
       "    }\n",
       "</style>\n",
       "<table border=\"1\" class=\"dataframe\">\n",
       "  <thead>\n",
       "    <tr style=\"text-align: right;\">\n",
       "      <th></th>\n",
       "      <th>online_order</th>\n",
       "      <th>book_table</th>\n",
       "    </tr>\n",
       "  </thead>\n",
       "  <tbody>\n",
       "    <tr>\n",
       "      <th>0</th>\n",
       "      <td>1</td>\n",
       "      <td>1</td>\n",
       "    </tr>\n",
       "    <tr>\n",
       "      <th>1</th>\n",
       "      <td>1</td>\n",
       "      <td>0</td>\n",
       "    </tr>\n",
       "    <tr>\n",
       "      <th>2</th>\n",
       "      <td>1</td>\n",
       "      <td>0</td>\n",
       "    </tr>\n",
       "    <tr>\n",
       "      <th>3</th>\n",
       "      <td>0</td>\n",
       "      <td>0</td>\n",
       "    </tr>\n",
       "    <tr>\n",
       "      <th>4</th>\n",
       "      <td>0</td>\n",
       "      <td>0</td>\n",
       "    </tr>\n",
       "  </tbody>\n",
       "</table>\n",
       "</div>"
      ],
      "text/plain": [
       "   online_order  book_table\n",
       "0             1           1\n",
       "1             1           0\n",
       "2             1           0\n",
       "3             0           0\n",
       "4             0           0"
      ]
     },
     "execution_count": 260,
     "metadata": {},
     "output_type": "execute_result"
    }
   ],
   "source": [
    "zomato_data[['online_order','book_table']].head()"
   ]
  },
  {
   "cell_type": "code",
   "execution_count": 261,
   "id": "f26b262b",
   "metadata": {
    "executionInfo": {
     "elapsed": 8,
     "status": "ok",
     "timestamp": 1745049447592,
     "user": {
      "displayName": "Surendra",
      "userId": "17580320614144699442"
     },
     "user_tz": -330
    },
    "id": "f26b262b"
   },
   "outputs": [],
   "source": [
    "zomato_data['approx_costfor_two_people']=zomato_data['approx_costfor_two_people'].astype('i')\n"
   ]
  },
  {
   "cell_type": "code",
   "execution_count": 262,
   "id": "c8ccb65d",
   "metadata": {
    "colab": {
     "base_uri": "https://localhost:8080/"
    },
    "executionInfo": {
     "elapsed": 34,
     "status": "ok",
     "timestamp": 1745049447629,
     "user": {
      "displayName": "Surendra",
      "userId": "17580320614144699442"
     },
     "user_tz": -330
    },
    "id": "c8ccb65d",
    "outputId": "52c84352-ac55-4951-c5fd-71c4ac2dfa05"
   },
   "outputs": [
    {
     "name": "stdout",
     "output_type": "stream",
     "text": [
      "<class 'pandas.core.frame.DataFrame'>\n",
      "RangeIndex: 51717 entries, 0 to 51716\n",
      "Data columns (total 10 columns):\n",
      " #   Column                     Non-Null Count  Dtype  \n",
      "---  ------                     --------------  -----  \n",
      " 0   online_order               51717 non-null  int64  \n",
      " 1   book_table                 51717 non-null  int64  \n",
      " 2   rate                       51717 non-null  float64\n",
      " 3   votes                      51717 non-null  int64  \n",
      " 4   rest_type                  51717 non-null  object \n",
      " 5   dish_liked                 51717 non-null  object \n",
      " 6   cuisines                   51717 non-null  object \n",
      " 7   approx_costfor_two_people  51717 non-null  int32  \n",
      " 8   listed_intype              51717 non-null  object \n",
      " 9   listed_incity              51717 non-null  object \n",
      "dtypes: float64(1), int32(1), int64(3), object(5)\n",
      "memory usage: 3.7+ MB\n"
     ]
    }
   ],
   "source": [
    "zomato_data.info()"
   ]
  },
  {
   "cell_type": "code",
   "execution_count": 263,
   "id": "f94e16d8",
   "metadata": {
    "executionInfo": {
     "elapsed": 14,
     "status": "ok",
     "timestamp": 1745049447645,
     "user": {
      "displayName": "Surendra",
      "userId": "17580320614144699442"
     },
     "user_tz": -330
    },
    "id": "f94e16d8"
   },
   "outputs": [],
   "source": [
    "final_data=pd.merge(zomato_data,geo_data,on='listed_incity',how='left')"
   ]
  },
  {
   "cell_type": "code",
   "execution_count": 264,
   "id": "b7af2985",
   "metadata": {
    "colab": {
     "base_uri": "https://localhost:8080/"
    },
    "executionInfo": {
     "elapsed": 12,
     "status": "ok",
     "timestamp": 1745049447655,
     "user": {
      "displayName": "Surendra",
      "userId": "17580320614144699442"
     },
     "user_tz": -330
    },
    "id": "b7af2985",
    "outputId": "a0cf2658-cff4-4698-8afa-c5398e41b2d6"
   },
   "outputs": [
    {
     "name": "stdout",
     "output_type": "stream",
     "text": [
      "<class 'pandas.core.frame.DataFrame'>\n",
      "RangeIndex: 51717 entries, 0 to 51716\n",
      "Data columns (total 12 columns):\n",
      " #   Column                     Non-Null Count  Dtype  \n",
      "---  ------                     --------------  -----  \n",
      " 0   online_order               51717 non-null  int64  \n",
      " 1   book_table                 51717 non-null  int64  \n",
      " 2   rate                       51717 non-null  float64\n",
      " 3   votes                      51717 non-null  int64  \n",
      " 4   rest_type                  51717 non-null  object \n",
      " 5   dish_liked                 51717 non-null  object \n",
      " 6   cuisines                   51717 non-null  object \n",
      " 7   approx_costfor_two_people  51717 non-null  int32  \n",
      " 8   listed_intype              51717 non-null  object \n",
      " 9   listed_incity              51717 non-null  object \n",
      " 10  Latitude                   46137 non-null  float64\n",
      " 11  Longitude                  46137 non-null  float64\n",
      "dtypes: float64(3), int32(1), int64(3), object(5)\n",
      "memory usage: 4.5+ MB\n"
     ]
    }
   ],
   "source": [
    "final_data.info()"
   ]
  },
  {
   "cell_type": "code",
   "execution_count": 265,
   "id": "97840978",
   "metadata": {
    "executionInfo": {
     "elapsed": 689,
     "status": "ok",
     "timestamp": 1745049448342,
     "user": {
      "displayName": "Surendra",
      "userId": "17580320614144699442"
     },
     "user_tz": -330
    },
    "id": "97840978"
   },
   "outputs": [],
   "source": [
    "final_data.to_csv(\"final_data.csv\")"
   ]
  },
  {
   "cell_type": "code",
   "execution_count": 266,
   "id": "456b780e",
   "metadata": {
    "colab": {
     "base_uri": "https://localhost:8080/",
     "height": 206
    },
    "executionInfo": {
     "elapsed": 249,
     "status": "ok",
     "timestamp": 1745049448594,
     "user": {
      "displayName": "Surendra",
      "userId": "17580320614144699442"
     },
     "user_tz": -330
    },
    "id": "456b780e",
    "outputId": "7b2e8c15-bc04-45ae-e851-8a512ab0fd63"
   },
   "outputs": [
    {
     "data": {
      "text/html": [
       "<div>\n",
       "<style scoped>\n",
       "    .dataframe tbody tr th:only-of-type {\n",
       "        vertical-align: middle;\n",
       "    }\n",
       "\n",
       "    .dataframe tbody tr th {\n",
       "        vertical-align: top;\n",
       "    }\n",
       "\n",
       "    .dataframe thead th {\n",
       "        text-align: right;\n",
       "    }\n",
       "</style>\n",
       "<table border=\"1\" class=\"dataframe\">\n",
       "  <thead>\n",
       "    <tr style=\"text-align: right;\">\n",
       "      <th></th>\n",
       "      <th>rest_type</th>\n",
       "      <th>dish_liked</th>\n",
       "      <th>cuisines</th>\n",
       "      <th>listed_intype</th>\n",
       "      <th>listed_incity</th>\n",
       "    </tr>\n",
       "  </thead>\n",
       "  <tbody>\n",
       "    <tr>\n",
       "      <th>0</th>\n",
       "      <td>Casual Dining</td>\n",
       "      <td>Pasta, Lunch Buffet, Masala Papad, Paneer Laja...</td>\n",
       "      <td>North Indian, Mughlai, Chinese</td>\n",
       "      <td>Buffet</td>\n",
       "      <td>Banashankari</td>\n",
       "    </tr>\n",
       "    <tr>\n",
       "      <th>1</th>\n",
       "      <td>Casual Dining</td>\n",
       "      <td>Momos, Lunch Buffet, Chocolate Nirvana, Thai G...</td>\n",
       "      <td>Chinese, North Indian, Thai</td>\n",
       "      <td>Buffet</td>\n",
       "      <td>Banashankari</td>\n",
       "    </tr>\n",
       "    <tr>\n",
       "      <th>2</th>\n",
       "      <td>Cafe, Casual Dining</td>\n",
       "      <td>Churros, Cannelloni, Minestrone Soup, Hot Choc...</td>\n",
       "      <td>Cafe, Mexican, Italian</td>\n",
       "      <td>Buffet</td>\n",
       "      <td>Banashankari</td>\n",
       "    </tr>\n",
       "    <tr>\n",
       "      <th>3</th>\n",
       "      <td>Quick Bites</td>\n",
       "      <td>Masala Dosa</td>\n",
       "      <td>South Indian, North Indian</td>\n",
       "      <td>Buffet</td>\n",
       "      <td>Banashankari</td>\n",
       "    </tr>\n",
       "    <tr>\n",
       "      <th>4</th>\n",
       "      <td>Casual Dining</td>\n",
       "      <td>Panipuri, Gol Gappe</td>\n",
       "      <td>North Indian, Rajasthani</td>\n",
       "      <td>Buffet</td>\n",
       "      <td>Banashankari</td>\n",
       "    </tr>\n",
       "  </tbody>\n",
       "</table>\n",
       "</div>"
      ],
      "text/plain": [
       "             rest_type                                         dish_liked  \\\n",
       "0        Casual Dining  Pasta, Lunch Buffet, Masala Papad, Paneer Laja...   \n",
       "1        Casual Dining  Momos, Lunch Buffet, Chocolate Nirvana, Thai G...   \n",
       "2  Cafe, Casual Dining  Churros, Cannelloni, Minestrone Soup, Hot Choc...   \n",
       "3          Quick Bites                                        Masala Dosa   \n",
       "4        Casual Dining                                Panipuri, Gol Gappe   \n",
       "\n",
       "                         cuisines listed_intype listed_incity  \n",
       "0  North Indian, Mughlai, Chinese        Buffet  Banashankari  \n",
       "1     Chinese, North Indian, Thai        Buffet  Banashankari  \n",
       "2          Cafe, Mexican, Italian        Buffet  Banashankari  \n",
       "3      South Indian, North Indian        Buffet  Banashankari  \n",
       "4        North Indian, Rajasthani        Buffet  Banashankari  "
      ]
     },
     "execution_count": 266,
     "metadata": {},
     "output_type": "execute_result"
    }
   ],
   "source": [
    "cat_data=zomato_data.select_dtypes(include='object')\n",
    "cat_data.head()"
   ]
  },
  {
   "cell_type": "code",
   "execution_count": 267,
   "id": "697fd8dd",
   "metadata": {
    "colab": {
     "base_uri": "https://localhost:8080/",
     "height": 206
    },
    "executionInfo": {
     "elapsed": 323,
     "status": "ok",
     "timestamp": 1745049448952,
     "user": {
      "displayName": "Surendra",
      "userId": "17580320614144699442"
     },
     "user_tz": -330
    },
    "id": "697fd8dd",
    "outputId": "0ef4b8f7-732e-4622-f09d-e4a40a2fff7e"
   },
   "outputs": [
    {
     "data": {
      "text/html": [
       "<div>\n",
       "<style scoped>\n",
       "    .dataframe tbody tr th:only-of-type {\n",
       "        vertical-align: middle;\n",
       "    }\n",
       "\n",
       "    .dataframe tbody tr th {\n",
       "        vertical-align: top;\n",
       "    }\n",
       "\n",
       "    .dataframe thead th {\n",
       "        text-align: right;\n",
       "    }\n",
       "</style>\n",
       "<table border=\"1\" class=\"dataframe\">\n",
       "  <thead>\n",
       "    <tr style=\"text-align: right;\">\n",
       "      <th></th>\n",
       "      <th>online_order</th>\n",
       "      <th>book_table</th>\n",
       "      <th>rate</th>\n",
       "      <th>votes</th>\n",
       "      <th>rest_type</th>\n",
       "      <th>dish_liked</th>\n",
       "      <th>cuisines</th>\n",
       "      <th>approx_costfor_two_people</th>\n",
       "      <th>listed_intype</th>\n",
       "      <th>listed_incity</th>\n",
       "    </tr>\n",
       "  </thead>\n",
       "  <tbody>\n",
       "    <tr>\n",
       "      <th>0</th>\n",
       "      <td>1</td>\n",
       "      <td>1</td>\n",
       "      <td>4.1</td>\n",
       "      <td>775</td>\n",
       "      <td>Casual Dining</td>\n",
       "      <td>Pasta, Lunch Buffet, Masala Papad, Paneer Laja...</td>\n",
       "      <td>North Indian, Mughlai, Chinese</td>\n",
       "      <td>800</td>\n",
       "      <td>Buffet</td>\n",
       "      <td>Banashankari</td>\n",
       "    </tr>\n",
       "    <tr>\n",
       "      <th>1</th>\n",
       "      <td>1</td>\n",
       "      <td>0</td>\n",
       "      <td>4.1</td>\n",
       "      <td>787</td>\n",
       "      <td>Casual Dining</td>\n",
       "      <td>Momos, Lunch Buffet, Chocolate Nirvana, Thai G...</td>\n",
       "      <td>Chinese, North Indian, Thai</td>\n",
       "      <td>800</td>\n",
       "      <td>Buffet</td>\n",
       "      <td>Banashankari</td>\n",
       "    </tr>\n",
       "    <tr>\n",
       "      <th>2</th>\n",
       "      <td>1</td>\n",
       "      <td>0</td>\n",
       "      <td>3.8</td>\n",
       "      <td>918</td>\n",
       "      <td>Cafe, Casual Dining</td>\n",
       "      <td>Churros, Cannelloni, Minestrone Soup, Hot Choc...</td>\n",
       "      <td>Cafe, Mexican, Italian</td>\n",
       "      <td>800</td>\n",
       "      <td>Buffet</td>\n",
       "      <td>Banashankari</td>\n",
       "    </tr>\n",
       "    <tr>\n",
       "      <th>3</th>\n",
       "      <td>0</td>\n",
       "      <td>0</td>\n",
       "      <td>3.7</td>\n",
       "      <td>88</td>\n",
       "      <td>Quick Bites</td>\n",
       "      <td>Masala Dosa</td>\n",
       "      <td>South Indian, North Indian</td>\n",
       "      <td>300</td>\n",
       "      <td>Buffet</td>\n",
       "      <td>Banashankari</td>\n",
       "    </tr>\n",
       "    <tr>\n",
       "      <th>4</th>\n",
       "      <td>0</td>\n",
       "      <td>0</td>\n",
       "      <td>3.8</td>\n",
       "      <td>166</td>\n",
       "      <td>Casual Dining</td>\n",
       "      <td>Panipuri, Gol Gappe</td>\n",
       "      <td>North Indian, Rajasthani</td>\n",
       "      <td>600</td>\n",
       "      <td>Buffet</td>\n",
       "      <td>Banashankari</td>\n",
       "    </tr>\n",
       "  </tbody>\n",
       "</table>\n",
       "</div>"
      ],
      "text/plain": [
       "   online_order  book_table  rate  votes            rest_type  \\\n",
       "0             1           1   4.1    775        Casual Dining   \n",
       "1             1           0   4.1    787        Casual Dining   \n",
       "2             1           0   3.8    918  Cafe, Casual Dining   \n",
       "3             0           0   3.7     88          Quick Bites   \n",
       "4             0           0   3.8    166        Casual Dining   \n",
       "\n",
       "                                          dish_liked  \\\n",
       "0  Pasta, Lunch Buffet, Masala Papad, Paneer Laja...   \n",
       "1  Momos, Lunch Buffet, Chocolate Nirvana, Thai G...   \n",
       "2  Churros, Cannelloni, Minestrone Soup, Hot Choc...   \n",
       "3                                        Masala Dosa   \n",
       "4                                Panipuri, Gol Gappe   \n",
       "\n",
       "                         cuisines  approx_costfor_two_people listed_intype  \\\n",
       "0  North Indian, Mughlai, Chinese                        800        Buffet   \n",
       "1     Chinese, North Indian, Thai                        800        Buffet   \n",
       "2          Cafe, Mexican, Italian                        800        Buffet   \n",
       "3      South Indian, North Indian                        300        Buffet   \n",
       "4        North Indian, Rajasthani                        600        Buffet   \n",
       "\n",
       "  listed_incity  \n",
       "0  Banashankari  \n",
       "1  Banashankari  \n",
       "2  Banashankari  \n",
       "3  Banashankari  \n",
       "4  Banashankari  "
      ]
     },
     "execution_count": 267,
     "metadata": {},
     "output_type": "execute_result"
    }
   ],
   "source": [
    "zomato_data.head()"
   ]
  },
  {
   "cell_type": "markdown",
   "id": "hzS3YDyrDZOK",
   "metadata": {
    "id": "hzS3YDyrDZOK"
   },
   "source": [
    "### MCQ ANSWERS"
   ]
  },
  {
   "cell_type": "code",
   "execution_count": 268,
   "id": "YQgf4KcVDY_I",
   "metadata": {
    "colab": {
     "base_uri": "https://localhost:8080/"
    },
    "executionInfo": {
     "elapsed": 13,
     "status": "ok",
     "timestamp": 1745049477873,
     "user": {
      "displayName": "Surendra",
      "userId": "17580320614144699442"
     },
     "user_tz": -330
    },
    "id": "YQgf4KcVDY_I",
    "outputId": "2ccb9158-0fb4-4c7f-b94a-731b0b02aa0d"
   },
   "outputs": [
    {
     "data": {
      "text/plain": [
       "(51717, 10)"
      ]
     },
     "execution_count": 268,
     "metadata": {},
     "output_type": "execute_result"
    }
   ],
   "source": [
    "zomato_data.shape"
   ]
  },
  {
   "cell_type": "code",
   "execution_count": 269,
   "id": "82WX8ns4DfJy",
   "metadata": {
    "colab": {
     "base_uri": "https://localhost:8080/"
    },
    "executionInfo": {
     "elapsed": 356,
     "status": "ok",
     "timestamp": 1745049564762,
     "user": {
      "displayName": "Surendra",
      "userId": "17580320614144699442"
     },
     "user_tz": -330
    },
    "id": "82WX8ns4DfJy",
    "outputId": "6b1095d1-c6a3-4bb9-aa7b-34120ccf08dd"
   },
   "outputs": [
    {
     "data": {
      "text/plain": [
       "21085"
      ]
     },
     "execution_count": 269,
     "metadata": {},
     "output_type": "execute_result"
    }
   ],
   "source": [
    "zomato_data[zomato_data['cuisines'].str.contains(\"North Indian\")]['cuisines'].count()"
   ]
  },
  {
   "cell_type": "code",
   "execution_count": 270,
   "id": "NToyAfcrD-XU",
   "metadata": {
    "colab": {
     "base_uri": "https://localhost:8080/"
    },
    "executionInfo": {
     "elapsed": 106,
     "status": "ok",
     "timestamp": 1745049645591,
     "user": {
      "displayName": "Surendra",
      "userId": "17580320614144699442"
     },
     "user_tz": -330
    },
    "id": "NToyAfcrD-XU",
    "outputId": "c2490f2a-7dc3-4a77-d548-f8437fa9964f"
   },
   "outputs": [
    {
     "name": "stdout",
     "output_type": "stream",
     "text": [
      "<class 'pandas.core.frame.DataFrame'>\n",
      "RangeIndex: 51717 entries, 0 to 51716\n",
      "Data columns (total 10 columns):\n",
      " #   Column                     Non-Null Count  Dtype  \n",
      "---  ------                     --------------  -----  \n",
      " 0   online_order               51717 non-null  int64  \n",
      " 1   book_table                 51717 non-null  int64  \n",
      " 2   rate                       51717 non-null  float64\n",
      " 3   votes                      51717 non-null  int64  \n",
      " 4   rest_type                  51717 non-null  object \n",
      " 5   dish_liked                 51717 non-null  object \n",
      " 6   cuisines                   51717 non-null  object \n",
      " 7   approx_costfor_two_people  51717 non-null  int32  \n",
      " 8   listed_intype              51717 non-null  object \n",
      " 9   listed_incity              51717 non-null  object \n",
      "dtypes: float64(1), int32(1), int64(3), object(5)\n",
      "memory usage: 3.7+ MB\n"
     ]
    }
   ],
   "source": [
    "zomato_data.info()"
   ]
  },
  {
   "cell_type": "code",
   "execution_count": 271,
   "id": "NfzYDE_8ETCI",
   "metadata": {
    "colab": {
     "base_uri": "https://localhost:8080/"
    },
    "executionInfo": {
     "elapsed": 55,
     "status": "ok",
     "timestamp": 1745049799876,
     "user": {
      "displayName": "Surendra",
      "userId": "17580320614144699442"
     },
     "user_tz": -330
    },
    "id": "NfzYDE_8ETCI",
    "outputId": "39a83832-27ed-43ac-bae3-5871e79fb449"
   },
   "outputs": [
    {
     "data": {
      "text/plain": [
       "[('North Indian', 21085)]"
      ]
     },
     "execution_count": 271,
     "metadata": {},
     "output_type": "execute_result"
    }
   ],
   "source": [
    "from collections import Counter\n",
    "cuisine_series = zomato_data['cuisines'].dropna()\n",
    "all_cuisines = [cuisine.strip() for items in cuisine_series for cuisine in items.split(',')]\n",
    "\n",
    "cuisine_counts = Counter(all_cuisines)\n",
    "most_common = cuisine_counts.most_common(1)\n",
    "most_common\n"
   ]
  },
  {
   "cell_type": "code",
   "execution_count": 272,
   "id": "45jCQdUbE9AE",
   "metadata": {
    "colab": {
     "base_uri": "https://localhost:8080/",
     "height": 272
    },
    "executionInfo": {
     "elapsed": 29,
     "status": "ok",
     "timestamp": 1745050110983,
     "user": {
      "displayName": "Surendra",
      "userId": "17580320614144699442"
     },
     "user_tz": -330
    },
    "id": "45jCQdUbE9AE",
    "outputId": "f1f9a2ca-4589-4e6c-e485-86352fc0a249"
   },
   "outputs": [
    {
     "data": {
      "text/plain": [
       "listed_incity\n",
       "Church Street     770.361248\n",
       "Brigade Road      766.676088\n",
       "MG Road           759.364992\n",
       "Lavelle Road      751.151950\n",
       "Residency Road    739.573457\n",
       "Name: approx_costfor_two_people, dtype: float64"
      ]
     },
     "execution_count": 272,
     "metadata": {},
     "output_type": "execute_result"
    }
   ],
   "source": [
    "zomato_data['listed_incity']\n",
    "zomato_data.groupby('listed_incity')['approx_costfor_two_people'].mean().sort_values(ascending=False).head()"
   ]
  },
  {
   "cell_type": "code",
   "execution_count": 273,
   "id": "i5e9qRyfGCyG",
   "metadata": {
    "colab": {
     "base_uri": "https://localhost:8080/"
    },
    "executionInfo": {
     "elapsed": 14,
     "status": "ok",
     "timestamp": 1745050154175,
     "user": {
      "displayName": "Surendra",
      "userId": "17580320614144699442"
     },
     "user_tz": -330
    },
    "id": "i5e9qRyfGCyG",
    "outputId": "a59d7dba-4e53-47c8-c05b-6aefb4189c2d"
   },
   "outputs": [
    {
     "data": {
      "text/plain": [
       "Index(['online_order', 'book_table', 'rate', 'votes', 'rest_type',\n",
       "       'dish_liked', 'cuisines', 'approx_costfor_two_people', 'listed_intype',\n",
       "       'listed_incity'],\n",
       "      dtype='object')"
      ]
     },
     "execution_count": 273,
     "metadata": {},
     "output_type": "execute_result"
    }
   ],
   "source": [
    "zomato_data.columns"
   ]
  },
  {
   "cell_type": "code",
   "execution_count": 274,
   "id": "wFpIE3KCGCj2",
   "metadata": {
    "colab": {
     "base_uri": "https://localhost:8080/",
     "height": 272
    },
    "executionInfo": {
     "elapsed": 59,
     "status": "ok",
     "timestamp": 1745051635348,
     "user": {
      "displayName": "Surendra",
      "userId": "17580320614144699442"
     },
     "user_tz": -330
    },
    "id": "wFpIE3KCGCj2",
    "outputId": "b2554765-6b59-42cd-d132-47614d1ac187"
   },
   "outputs": [
    {
     "data": {
      "text/plain": [
       "rest_type\n",
       "Bakery                  4.800000\n",
       "Pub, Cafe               4.657500\n",
       "Cafe, Dessert Parlor    4.578261\n",
       "Dessert Parlor          4.518367\n",
       "Microbrewery            4.508333\n",
       "Name: rate, dtype: float64"
      ]
     },
     "execution_count": 274,
     "metadata": {},
     "output_type": "execute_result"
    }
   ],
   "source": [
    "zomato_data[zomato_data['votes']>1000].groupby('rest_type')['rate'].mean().sort_values(ascending=False).head()"
   ]
  },
  {
   "cell_type": "code",
   "execution_count": 275,
   "id": "hNGHpLVNF_yO",
   "metadata": {
    "colab": {
     "base_uri": "https://localhost:8080/"
    },
    "executionInfo": {
     "elapsed": 25,
     "status": "ok",
     "timestamp": 1745052128864,
     "user": {
      "displayName": "Surendra",
      "userId": "17580320614144699442"
     },
     "user_tz": -330
    },
    "id": "hNGHpLVNF_yO",
    "outputId": "6779b7e7-7cab-4281-ce5e-dd5763016d0e"
   },
   "outputs": [
    {
     "data": {
      "text/plain": [
       "40"
      ]
     },
     "execution_count": 275,
     "metadata": {},
     "output_type": "execute_result"
    }
   ],
   "source": [
    "zomato_data['approx_costfor_two_people'].min()"
   ]
  },
  {
   "cell_type": "code",
   "execution_count": 276,
   "id": "Dmv0OMJPPPyW",
   "metadata": {
    "colab": {
     "base_uri": "https://localhost:8080/"
    },
    "executionInfo": {
     "elapsed": 15,
     "status": "ok",
     "timestamp": 1745052566078,
     "user": {
      "displayName": "Surendra",
      "userId": "17580320614144699442"
     },
     "user_tz": -330
    },
    "id": "Dmv0OMJPPPyW",
    "outputId": "be955e1e-3993-4d0f-f690-960e175f919f"
   },
   "outputs": [
    {
     "data": {
      "text/plain": [
       "30444"
      ]
     },
     "execution_count": 276,
     "metadata": {},
     "output_type": "execute_result"
    }
   ],
   "source": [
    "zomato_data[zomato_data['online_order']==1]['online_order'].count()"
   ]
  },
  {
   "cell_type": "code",
   "execution_count": 277,
   "id": "VHk00Xp0PR51",
   "metadata": {
    "colab": {
     "base_uri": "https://localhost:8080/"
    },
    "executionInfo": {
     "elapsed": 24,
     "status": "ok",
     "timestamp": 1745052588969,
     "user": {
      "displayName": "Surendra",
      "userId": "17580320614144699442"
     },
     "user_tz": -330
    },
    "id": "VHk00Xp0PR51",
    "outputId": "a6a3145a-89d8-40c9-f029-7612cf167d93"
   },
   "outputs": [
    {
     "data": {
      "text/plain": [
       "546"
      ]
     },
     "execution_count": 277,
     "metadata": {},
     "output_type": "execute_result"
    }
   ],
   "source": [
    "zomato_data[(zomato_data['listed_incity'] == 'Banashankari') & (zomato_data['online_order'] == 1)]['online_order'].count()"
   ]
  },
  {
   "cell_type": "code",
   "execution_count": 278,
   "id": "NZGJ9Cp3PlnK",
   "metadata": {
    "colab": {
     "base_uri": "https://localhost:8080/"
    },
    "executionInfo": {
     "elapsed": 8,
     "status": "ok",
     "timestamp": 1745052657018,
     "user": {
      "displayName": "Surendra",
      "userId": "17580320614144699442"
     },
     "user_tz": -330
    },
    "id": "NZGJ9Cp3PlnK",
    "outputId": "986f1bcc-fad2-4ea9-9bc1-2993151399ad"
   },
   "outputs": [
    {
     "data": {
      "text/plain": [
       "0.017934568387859676"
      ]
     },
     "execution_count": 278,
     "metadata": {},
     "output_type": "execute_result"
    }
   ],
   "source": [
    "zomato_data[(zomato_data['listed_incity'] == 'Banashankari') & (zomato_data['online_order'] == 1)]['online_order'].count() / zomato_data[zomato_data['online_order']==1]['online_order'].count()"
   ]
  },
  {
   "cell_type": "code",
   "execution_count": 279,
   "id": "fUlRL1qYPnIb",
   "metadata": {
    "colab": {
     "base_uri": "https://localhost:8080/",
     "height": 272
    },
    "executionInfo": {
     "elapsed": 42,
     "status": "ok",
     "timestamp": 1745052968203,
     "user": {
      "displayName": "Surendra",
      "userId": "17580320614144699442"
     },
     "user_tz": -330
    },
    "id": "fUlRL1qYPnIb",
    "outputId": "d0468108-72ac-41bd-c06b-06eb3608fc2f"
   },
   "outputs": [
    {
     "data": {
      "text/plain": [
       "listed_incity\n",
       "Brookefield         8\n",
       "Whitefield          6\n",
       "Indiranagar         4\n",
       "Old Airport Road    4\n",
       "Bellandur           3\n",
       "Name: listed_incity, dtype: int64"
      ]
     },
     "execution_count": 279,
     "metadata": {},
     "output_type": "execute_result"
    }
   ],
   "source": [
    "a=zomato_data[(zomato_data['votes']>500) & (zomato_data['rate']<3.0)]\n",
    "a.groupby('listed_incity')['listed_incity'].count().sort_values(ascending=False).head()"
   ]
  },
  {
   "cell_type": "code",
   "execution_count": 280,
   "id": "0Zv1d0RAQ2Ho",
   "metadata": {
    "colab": {
     "base_uri": "https://localhost:8080/",
     "height": 272
    },
    "executionInfo": {
     "elapsed": 32,
     "status": "ok",
     "timestamp": 1745053077934,
     "user": {
      "displayName": "Surendra",
      "userId": "17580320614144699442"
     },
     "user_tz": -330
    },
    "id": "0Zv1d0RAQ2Ho",
    "outputId": "7f786bb1-89e0-4207-dc3b-234deffe3dcc"
   },
   "outputs": [
    {
     "data": {
      "text/plain": [
       "listed_incity\n",
       "BTM              62\n",
       "Brigade Road     61\n",
       "Church Street    61\n",
       "MG Road          59\n",
       "Lavelle Road     59\n",
       "Name: rest_type, dtype: int64"
      ]
     },
     "execution_count": 280,
     "metadata": {},
     "output_type": "execute_result"
    }
   ],
   "source": [
    "zomato_data.groupby('listed_incity')['rest_type'].nunique().sort_values(ascending=False).head()\n"
   ]
  },
  {
   "cell_type": "code",
   "execution_count": 281,
   "id": "2ZRmlkNURiqJ",
   "metadata": {
    "colab": {
     "base_uri": "https://localhost:8080/"
    },
    "executionInfo": {
     "elapsed": 43,
     "status": "ok",
     "timestamp": 1745053304614,
     "user": {
      "displayName": "Surendra",
      "userId": "17580320614144699442"
     },
     "user_tz": -330
    },
    "id": "2ZRmlkNURiqJ",
    "outputId": "d351e8f2-8c9d-4064-fc3b-1aa0830bebdd"
   },
   "outputs": [
    {
     "data": {
      "text/plain": [
       "831.2513659898209"
      ]
     },
     "execution_count": 281,
     "metadata": {},
     "output_type": "execute_result"
    }
   ],
   "source": [
    "a=zomato_data[zomato_data['listed_intype']=='Buffet']['approx_costfor_two_people'].mean()\n",
    "b=zomato_data[zomato_data['listed_intype']=='Delivery']['approx_costfor_two_people'].mean()\n",
    "a-b"
   ]
  },
  {
   "cell_type": "code",
   "execution_count": 282,
   "id": "hM6KgGV-SGUk",
   "metadata": {
    "colab": {
     "base_uri": "https://localhost:8080/"
    },
    "executionInfo": {
     "elapsed": 18,
     "status": "ok",
     "timestamp": 1745053379241,
     "user": {
      "displayName": "Surendra",
      "userId": "17580320614144699442"
     },
     "user_tz": -330
    },
    "id": "hM6KgGV-SGUk",
    "outputId": "8cf6a559-4424-4a96-974f-8c4205c55f95"
   },
   "outputs": [
    {
     "data": {
      "text/plain": [
       "16832"
      ]
     },
     "execution_count": 282,
     "metadata": {},
     "output_type": "execute_result"
    }
   ],
   "source": [
    "zomato_data[zomato_data['online_order']==1]['votes'].max()"
   ]
  },
  {
   "cell_type": "code",
   "execution_count": 283,
   "id": "B-b8C0f_SbNH",
   "metadata": {
    "colab": {
     "base_uri": "https://localhost:8080/"
    },
    "executionInfo": {
     "elapsed": 88,
     "status": "ok",
     "timestamp": 1745053511614,
     "user": {
      "displayName": "Surendra",
      "userId": "17580320614144699442"
     },
     "user_tz": -330
    },
    "id": "B-b8C0f_SbNH",
    "outputId": "f8616c6e-726d-4cd5-c3f1-723d40025263"
   },
   "outputs": [
    {
     "data": {
      "text/plain": [
       "3.5919080217658412"
      ]
     },
     "execution_count": 283,
     "metadata": {},
     "output_type": "execute_result"
    }
   ],
   "source": [
    "zomato_data[(zomato_data['cuisines'].str.contains(\"North Indian\")) & (zomato_data['cuisines'].str.contains(\"Chinese\"))]['rate'].mean()"
   ]
  },
  {
   "cell_type": "code",
   "execution_count": 284,
   "id": "ymfrvAfVS4ZT",
   "metadata": {
    "colab": {
     "base_uri": "https://localhost:8080/",
     "height": 272
    },
    "executionInfo": {
     "elapsed": 82,
     "status": "ok",
     "timestamp": 1745053730867,
     "user": {
      "displayName": "Surendra",
      "userId": "17580320614144699442"
     },
     "user_tz": -330
    },
    "id": "ymfrvAfVS4ZT",
    "outputId": "d905927a-95b7-46cf-f7b5-955f6554d322"
   },
   "outputs": [
    {
     "data": {
      "text/plain": [
       "listed_incity\n",
       "Koramangala 7th Block    1006195610\n",
       "Koramangala 5th Block     987609890\n",
       "MG Road                   926969270\n",
       "BTM                       924636830\n",
       "Koramangala 4th Block     919922860\n",
       "Name: estimated_revenue, dtype: int64"
      ]
     },
     "execution_count": 284,
     "metadata": {},
     "output_type": "execute_result"
    }
   ],
   "source": [
    "zomato_data['estimated_revenue'] = zomato_data['approx_costfor_two_people'] * zomato_data['votes']\n",
    "zomato_data.groupby('listed_incity')['estimated_revenue'].sum().sort_values(ascending=False).head()\n"
   ]
  },
  {
   "cell_type": "code",
   "execution_count": 285,
   "id": "nX9bMN2oTzos",
   "metadata": {
    "executionInfo": {
     "elapsed": 27,
     "status": "ok",
     "timestamp": 1745053801697,
     "user": {
      "displayName": "Surendra",
      "userId": "17580320614144699442"
     },
     "user_tz": -330
    },
    "id": "nX9bMN2oTzos"
   },
   "outputs": [],
   "source": [
    "zomato_data.drop(\"estimated_revenue\",axis=1,inplace=True)"
   ]
  },
  {
   "cell_type": "code",
   "execution_count": 286,
   "id": "cRYfBYgAT-To",
   "metadata": {
    "colab": {
     "base_uri": "https://localhost:8080/",
     "height": 272
    },
    "executionInfo": {
     "elapsed": 68,
     "status": "ok",
     "timestamp": 1745053964942,
     "user": {
      "displayName": "Surendra",
      "userId": "17580320614144699442"
     },
     "user_tz": -330
    },
    "id": "cRYfBYgAT-To",
    "outputId": "b6a51182-7f51-4918-b4e3-091ba816e255"
   },
   "outputs": [
    {
     "data": {
      "text/plain": [
       "rest_type\n",
       "Quick Bites           738\n",
       "Casual Dining         730\n",
       "Cafe                  182\n",
       "Delivery              115\n",
       "Takeaway, Delivery     93\n",
       "Name: count, dtype: int64"
      ]
     },
     "execution_count": 286,
     "metadata": {},
     "output_type": "execute_result"
    }
   ],
   "source": [
    "zomato_data[zomato_data['rate']<3.0]['rest_type'].value_counts(ascending=False).head()\n"
   ]
  },
  {
   "cell_type": "code",
   "execution_count": 287,
   "id": "xEoDUjWPU4IL",
   "metadata": {
    "colab": {
     "base_uri": "https://localhost:8080/",
     "height": 272
    },
    "executionInfo": {
     "elapsed": 49,
     "status": "ok",
     "timestamp": 1745054187104,
     "user": {
      "displayName": "Surendra",
      "userId": "17580320614144699442"
     },
     "user_tz": -330
    },
    "id": "xEoDUjWPU4IL",
    "outputId": "7575106a-90b5-48f9-8a34-7247b56fba50"
   },
   "outputs": [
    {
     "data": {
      "text/plain": [
       "listed_incity\n",
       "Koramangala 7th Block    182\n",
       "Church Street            181\n",
       "MG Road                  180\n",
       "Brigade Road             175\n",
       "Koramangala 5th Block    170\n",
       "Name: count, dtype: int64"
      ]
     },
     "execution_count": 287,
     "metadata": {},
     "output_type": "execute_result"
    }
   ],
   "source": [
    "zomato_data[(zomato_data['rate']>4.2) & (zomato_data['votes']>500)]['listed_incity'].value_counts(ascending=False).head()"
   ]
  }
 ],
 "metadata": {
  "colab": {
   "provenance": []
  },
  "kernelspec": {
   "display_name": "base",
   "language": "python",
   "name": "python3"
  },
  "language_info": {
   "codemirror_mode": {
    "name": "ipython",
    "version": 3
   },
   "file_extension": ".py",
   "mimetype": "text/x-python",
   "name": "python",
   "nbconvert_exporter": "python",
   "pygments_lexer": "ipython3",
   "version": "3.12.4"
  }
 },
 "nbformat": 4,
 "nbformat_minor": 5
}
